{
 "cells": [
  {
   "cell_type": "code",
   "execution_count": 1,
   "metadata": {},
   "outputs": [],
   "source": [
    "# !pip install pycapnp\n",
    "# !pip install typer\n",
    "# !pip install ipywidgets"
   ]
  },
  {
   "cell_type": "code",
   "execution_count": 2,
   "metadata": {},
   "outputs": [
    {
     "name": "stderr",
     "output_type": "stream",
     "text": [
      "kj/filesystem-disk-unix.c++:1703: warning: PWD environment variable doesn't match current directory; pwd = /home/wangl\n"
     ]
    }
   ],
   "source": [
    "import asyncio\n",
    "import zmq.asyncio\n",
    "\n",
    "import os\n",
    "import numpy as np\n",
    "import logging\n",
    "from pathlib import Path\n",
    "\n",
    "import capnp\n",
    "import typer\n",
    "import zmq.asyncio\n",
    "import time\n",
    "from deepdrrzmq.utils.zmq_util import zmq_poll_latest\n",
    "\n",
    "from deepdrrzmq.utils.typer_util import unwrap_typer_param\n",
    "from deepdrrzmq.utils.server_util import make_response, DeepDRRServerException, messages\n",
    "import random\n",
    "import string\n",
    "\n",
    "import threading\n",
    "from IPython.display import display\n",
    "import ipywidgets as widgets\n",
    "import time\n",
    "from threading import Event\n",
    "import asyncio"
   ]
  },
  {
   "cell_type": "code",
   "execution_count": 3,
   "metadata": {},
   "outputs": [],
   "source": [
    "rep_port=40100\n",
    "pub_port=40101\n",
    "sub_port=40102"
   ]
  },
  {
   "cell_type": "code",
   "execution_count": 4,
   "metadata": {},
   "outputs": [],
   "source": [
    "context = zmq.asyncio.Context()\n",
    "# context = zmq.Context()\n",
    "context.__enter__()\n",
    "\n",
    "sub_socket = context.socket(zmq.SUB)\n",
    "sub_socket.hwm = 10000\n",
    "\n",
    "pub_socket = context.socket(zmq.PUB)\n",
    "pub_socket.hwm = 10000\n",
    "\n",
    "# addr = \"192.158.1.54\"\n",
    "addr = \"localhost\"\n",
    "pub_socket.connect(f\"tcp://{addr}:{pub_port}\") # make variable\n",
    "sub_socket.connect(f\"tcp://{addr}:{sub_port}\")\n",
    "# pub_socket.connect(f\"tcp:10.0.0.7\") # make variable\n",
    "# sub_socket.connect(f\"tcp:10.0.0.7\")\n",
    "\n",
    "sub_socket.subscribe(b\"\")\n",
    "# sub_socket.subscribe(b\"/replayd/\")"
   ]
  },
  {
   "cell_type": "code",
   "execution_count": 6,
   "metadata": {},
   "outputs": [
    {
     "data": {
      "application/vnd.jupyter.widget-view+json": {
       "model_id": "feb3bb384e894c30be00a4b284120589",
       "version_major": 2,
       "version_minor": 0
      },
      "text/plain": [
       "HBox(children=(Button(description='New Session', icon='circle', style=ButtonStyle()), Button(description='Stop…"
      ]
     },
     "metadata": {},
     "output_type": "display_data"
    }
   ],
   "source": [
    "class ReplayControllerInterface:\n",
    "    def __init__(self):\n",
    "        self.record_button = widgets.Button(description='New Session', disabled=True, button_style='', icon='circle')\n",
    "        self.stop_button = widgets.Button(description='Stop', disabled=True, button_style='', icon='square')\n",
    "        self.session_id = widgets.Text(value='None', placeholder='', description='Session ID:', disabled=True)\n",
    "        self.record_status = widgets.Text(value='None', placeholder='', description='Recording:', disabled=True)\n",
    "        self.log_dropdown = widgets.Dropdown(\n",
    "            options=['1', '2', '3'],\n",
    "            value='2',\n",
    "            description='Number:',\n",
    "            disabled=False,\n",
    "        )\n",
    "        self.change_log_button = widgets.Button(description='Change Log', disabled=False, button_style='', icon='square')\n",
    "        self.log_dropdown_init = False\n",
    "        self.last_heard_time = 0\n",
    "\n",
    "    async def start(self):\n",
    "        await asyncio.gather(\n",
    "            self.publish(),\n",
    "            self.listen(),\n",
    "            self.ui_update(),\n",
    "        )\n",
    "\n",
    "    async def publish(self):\n",
    "        while True:\n",
    "            if not self.log_dropdown_init:\n",
    "                pub_socket.send_multipart([b\"/replayd/in/listrequest/\", b\"\"])\n",
    "\n",
    "            if time.time() - self.last_heard_time > 3:\n",
    "                self.session_id.value = \"Disconnected\"\n",
    "                self.record_status.value = \"Disconnected\"\n",
    "                self.record_button.disabled = True\n",
    "                self.stop_button.disabled = True\n",
    "                self.log_dropdown.disabled = True\n",
    "            \n",
    "            await asyncio.sleep(1)\n",
    "\n",
    "    async def listen(self):\n",
    "\n",
    "        while True:\n",
    "            latest_msgs = await zmq_poll_latest(sub_socket)\n",
    "\n",
    "            for topic, data in latest_msgs.items():\n",
    "                if topic == b\"/replayd/status/\":\n",
    "                    self.last_heard_time = time.time()\n",
    "                    self.record_button.disabled = False\n",
    "                    self.stop_button.disabled = False\n",
    "                    self.log_dropdown.disabled = False\n",
    "                    with messages.ReplayerStatus.from_bytes(data) as msg:\n",
    "                        pass\n",
    "                        # session_id.value = msg.sessionId if msg.recording else \"no session\"\n",
    "                        # record_status.value = str(msg.recording)\n",
    "                        # record_button.button_style = 'danger' if msg.recording else ''\n",
    "                elif topic == b\"/replayd/list/\":\n",
    "                    with messages.LogList.from_bytes(data) as msg:\n",
    "                        log_list = [x.id for x in msg.logs]\n",
    "                        self.log_dropdown.options = reversed(log_list)\n",
    "                        self.log_dropdown_init = True \n",
    "\n",
    "            await asyncio.sleep(1)\n",
    "\n",
    "    def on_record_button_clicked(self, b):\n",
    "        pub_socket.send_multipart([b\"/replayd/in/start/\", b\"\"])\n",
    "        print(\"sent start\")\n",
    "        \n",
    "\n",
    "    def on_stop_button_clicked(self, b):\n",
    "        pub_socket.send_multipart([b\"/replayd/in/stop/\", b\"\"])\n",
    "\n",
    "    def on_selected_log_changed(self, b):\n",
    "        print(\"selected log changed\")\n",
    "        msg = messages.LoadLogRequest.new_message()\n",
    "        msg.logId = self.log_dropdown.value\n",
    "        msg.autoplay = True\n",
    "        msg.startTime = 0\n",
    "        msg.loop = True\n",
    "        pub_socket.send_multipart([b\"/replayd/in/load/\", msg.to_bytes()])\n",
    "\n",
    "    async def ui_update(self):\n",
    "        self.record_button.on_click(self.on_record_button_clicked)\n",
    "        self.stop_button.on_click(self.on_stop_button_clicked)\n",
    "        self.change_log_button.on_click(self.on_selected_log_changed)\n",
    "        # display(widgets.HBox([record_button, stop_button, log_dropdown, change_log_button, record_status]))\n",
    "        display(widgets.HBox([\n",
    "            self.record_button,\n",
    "            self.stop_button,\n",
    "            self.log_dropdown,\n",
    "            self.change_log_button,\n",
    "            self.record_status\n",
    "        ]))\n",
    "\n",
    "# await start()\n",
    "interface = ReplayControllerInterface()\n",
    "await interface.start()"
   ]
  },
  {
   "cell_type": "code",
   "execution_count": null,
   "metadata": {},
   "outputs": [],
   "source": []
  }
 ],
 "metadata": {
  "kernelspec": {
   "display_name": "deepdrr_zmq",
   "language": "python",
   "name": "python3"
  },
  "language_info": {
   "codemirror_mode": {
    "name": "ipython",
    "version": 3
   },
   "file_extension": ".py",
   "mimetype": "text/x-python",
   "name": "python",
   "nbconvert_exporter": "python",
   "pygments_lexer": "ipython3",
   "version": "3.8.16"
  },
  "orig_nbformat": 4
 },
 "nbformat": 4,
 "nbformat_minor": 2
}
