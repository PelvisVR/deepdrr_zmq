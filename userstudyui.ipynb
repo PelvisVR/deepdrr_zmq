{
 "cells": [
  {
   "cell_type": "code",
   "execution_count": 15,
   "metadata": {},
   "outputs": [],
   "source": [
    "import asyncio\n",
    "import os\n",
    "import numpy as np\n",
    "import logging\n",
    "from pathlib import Path\n",
    "\n",
    "import capnp\n",
    "import typer\n",
    "import zmq.asyncio\n",
    "import time\n",
    "from deepdrrzmq.utils.zmq_util import zmq_no_linger_context\n",
    "\n",
    "from deepdrrzmq.utils.typer_util import unwrap_typer_param\n",
    "from deepdrrzmq.utils.server_util import make_response, DeepDRRServerException, messages\n",
    "import random\n",
    "import string\n",
    "\n",
    "import threading\n",
    "from IPython.display import display\n",
    "import ipywidgets as widgets\n",
    "import time\n",
    "from threading import Event\n",
    "import asyncio\n",
    "rep_port=40100\n",
    "pub_port=40101\n",
    "sub_port=40102\n",
    "context = zmq.Context()\n",
    "context.__enter__()\n",
    "\n",
    "sub_socket = context.socket(zmq.SUB)\n",
    "sub_socket.hwm = 10000\n",
    "\n",
    "pub_socket = context.socket(zmq.PUB)\n",
    "pub_socket.hwm = 10000\n",
    "\n",
    "addr = \"localhost\"\n",
    "pub_socket.connect(f\"tcp://{addr}:{pub_port}\") # make variable\n",
    "sub_socket.connect(f\"tcp://{addr}:{sub_port}\")\n",
    "\n",
    "\n",
    "sub_socket.subscribe(b\"/loggerd/\")"
   ]
  },
  {
   "cell_type": "code",
   "execution_count": 16,
   "metadata": {},
   "outputs": [
    {
     "data": {
      "application/vnd.jupyter.widget-view+json": {
       "model_id": "ab2f256b0e16403ca59d3eebff9da6c3",
       "version_major": 2,
       "version_minor": 0
      },
      "text/plain": [
       "HBox(children=(VBox(children=(ToggleButtons(description='Patient Material:', options=(('Opaque', True), ('Tran…"
      ]
     },
     "metadata": {},
     "output_type": "display_data"
    },
    {
     "data": {
      "application/vnd.jupyter.widget-view+json": {
       "model_id": "6ceee92b9e0846c3adce39250115a093",
       "version_major": 2,
       "version_minor": 0
      },
      "text/plain": [
       "HBox(children=(Button(description='New Session', disabled=True, icon='circle', style=ButtonStyle()), Button(de…"
      ]
     },
     "metadata": {},
     "output_type": "display_data"
    },
    {
     "name": "stdout",
     "output_type": "stream",
     "text": [
      "False\n",
      "True\n",
      "False\n",
      "False\n"
     ]
    }
   ],
   "source": [
    "record_button = widgets.Button(description='New Session', disabled=True, button_style='', icon='circle')\n",
    "stop_button = widgets.Button(description='Stop', disabled=True, button_style='', icon='square')\n",
    "\n",
    "session_id = widgets.Text(value='None', placeholder='', description='Session ID:', disabled=True)\n",
    "record_status = widgets.Text(value='None', placeholder='', description='Recording:', disabled=True)\n",
    "\n",
    "async def f():\n",
    "    last_heard_time = 0\n",
    "\n",
    "    while True:\n",
    "        latest_msgs = {}\n",
    "\n",
    "        try:\n",
    "            for i in range(1000):\n",
    "                topic, data = sub_socket.recv_multipart(flags=zmq.NOBLOCK)\n",
    "                latest_msgs[topic] = data\n",
    "        except zmq.ZMQError:\n",
    "            pass\n",
    "\n",
    "        for topic, data in latest_msgs.items():\n",
    "            if topic == b\"/loggerd/status/\":\n",
    "                last_heard_time = time.time()\n",
    "                record_button.disabled = False\n",
    "                stop_button.disabled = False\n",
    "                with messages.LoggerStatus.from_bytes(data) as msg:\n",
    "                    session_id.value = msg.sessionId if msg.recording else \"no session\"\n",
    "                    record_status.value = str(msg.recording)\n",
    "                    record_button.button_style = 'danger' if msg.recording else ''\n",
    "\n",
    "        if time.time() - last_heard_time > 3:\n",
    "            session_id.value = \"Disconnected\"\n",
    "            record_status.value = \"Disconnected\"\n",
    "            record_button.disabled = True\n",
    "            stop_button.disabled = True\n",
    "\n",
    "        await asyncio.sleep(0.1)\n",
    "\n",
    "try:\n",
    "    ui_update_task.cancel()\n",
    "except:\n",
    "    pass\n",
    "ui_update_task = asyncio.create_task(f())\n",
    "\n",
    "def on_record_button_clicked(b):\n",
    "    pub_socket.send_multipart([b\"/loggerd/start/\", b\"\"])\n",
    "    \n",
    "\n",
    "def on_stop_button_clicked(b):\n",
    "    pub_socket.send_multipart([b\"/loggerd/stop/\", b\"\"])\n",
    "\n",
    "colortoggle = widgets.ToggleButtons(\n",
    "    options=[('Opaque', True), ('Transparent' ,False)],\n",
    "    description='Patient Material:',\n",
    "    disabled=False,\n",
    "    button_style='', # 'success', 'info', 'warning', 'danger' or ''\n",
    ")\n",
    "\n",
    "updatesetting = widgets.Button(\n",
    "    description='Update Setting',\n",
    "    disabled=False,\n",
    "    button_style='', # 'success', 'info', 'warning', 'danger' or ''\n",
    "    tooltip='Click me',\n",
    "    icon='check' # (FontAwesome names without the `fa-` prefix)\n",
    ")\n",
    "\n",
    "\n",
    "left_box = widgets.VBox([colortoggle])\n",
    "display(widgets.HBox([left_box,updatesetting]))\n",
    "\n",
    "def opdatesetting_clicked(b):\n",
    "    response_topic = \"/mp/setting/changeskinopaque/--OBJECT--/DRRWorldOrigin/PatientOrigin/Userstudy/teleport_and_changematerial/\"\n",
    "    \n",
    "    # response_topic = \"/mp/setting/webgui/SettingManager/\"\n",
    "    msg = messages.SycnedSetting.new_message()\n",
    "    msg.timestamp = msg.timestamp = float(np.float64(time.time()).item())\n",
    "    msg.clientId = 'webgui'\n",
    "    uiControlVar = msg.setting.init(\"skinandtransport\")\n",
    "    uiControlVar.skinopaqueweb = colortoggle.value\n",
    "    pub_socket.send_multipart([response_topic.encode(), msg.to_bytes()])\n",
    "    print(colortoggle.value)\n",
    "\n",
    "updatesetting.on_click(opdatesetting_clicked)\n",
    "record_button.on_click(on_record_button_clicked)\n",
    "record_button.on_click(opdatesetting_clicked)\n",
    "stop_button.on_click(on_stop_button_clicked)\n",
    "display(widgets.HBox([record_button, stop_button, session_id, record_status]))\n"
   ]
  }
 ],
 "metadata": {
  "kernelspec": {
   "display_name": "cvpr23",
   "language": "python",
   "name": "python3"
  },
  "language_info": {
   "codemirror_mode": {
    "name": "ipython",
    "version": 3
   },
   "file_extension": ".py",
   "mimetype": "text/x-python",
   "name": "python",
   "nbconvert_exporter": "python",
   "pygments_lexer": "ipython3",
   "version": "3.9.16"
  },
  "orig_nbformat": 4
 },
 "nbformat": 4,
 "nbformat_minor": 2
}
