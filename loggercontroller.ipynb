{
 "cells": [
  {
   "cell_type": "code",
   "execution_count": 10,
   "metadata": {},
   "outputs": [],
   "source": [
    "import asyncio\n",
    "import os\n",
    "\n",
    "import logging\n",
    "from pathlib import Path\n",
    "\n",
    "import capnp\n",
    "import typer\n",
    "import zmq.asyncio\n",
    "import time\n",
    "from deepdrrzmq.utils.zmq_util import zmq_no_linger_context\n",
    "\n",
    "from deepdrrzmq.utils.typer_util import unwrap_typer_param\n",
    "from deepdrrzmq.utils.server_util import make_response, DeepDRRServerException, messages\n",
    "import random\n",
    "import string\n",
    "\n",
    "import threading\n",
    "from IPython.display import display\n",
    "import ipywidgets as widgets\n",
    "import time\n",
    "from threading import Event\n",
    "import asyncio"
   ]
  },
  {
   "cell_type": "code",
   "execution_count": 11,
   "metadata": {},
   "outputs": [],
   "source": [
    "rep_port=40100\n",
    "pub_port=40101\n",
    "sub_port=40102"
   ]
  },
  {
   "cell_type": "code",
   "execution_count": 12,
   "metadata": {},
   "outputs": [],
   "source": [
    "context = zmq.Context()\n",
    "context.__enter__()\n",
    "\n",
    "sub_socket = context.socket(zmq.SUB)\n",
    "sub_socket.hwm = 10000\n",
    "\n",
    "pub_socket = context.socket(zmq.PUB)\n",
    "pub_socket.hwm = 10000\n",
    "\n",
    "pub_socket.connect(f\"tcp://localhost:{pub_port}\")\n",
    "sub_socket.connect(f\"tcp://localhost:{sub_port}\")\n",
    "\n",
    "sub_socket.subscribe(b\"/loggerd/\")"
   ]
  },
  {
   "cell_type": "code",
   "execution_count": 21,
   "metadata": {},
   "outputs": [
    {
     "data": {
      "application/vnd.jupyter.widget-view+json": {
       "model_id": "257e3b0ff1534b3fa4899fe7a5979332",
       "version_major": 2,
       "version_minor": 0
      },
      "text/plain": [
       "HBox(children=(Button(description='New Session', icon='circle', style=ButtonStyle()), Button(description='Stop…"
      ]
     },
     "metadata": {},
     "output_type": "display_data"
    }
   ],
   "source": [
    "\n",
    "\n",
    "record_button = widgets.Button(description='New Session', disabled=False, button_style='', icon='circle')\n",
    "stop_button = widgets.Button(description='Stop', disabled=False, button_style='', icon='square')\n",
    "\n",
    "session_id = widgets.Text(value='None', placeholder='', description='Session ID:', disabled=True)\n",
    "record_status = widgets.Text(value='None', placeholder='', description='Recording:', disabled=True)\n",
    "\n",
    "async def f():\n",
    "    while True:\n",
    "        latest_msgs = {}\n",
    "\n",
    "        try:\n",
    "            for i in range(1000):\n",
    "                topic, data = sub_socket.recv_multipart(flags=zmq.NOBLOCK)\n",
    "                latest_msgs[topic] = data\n",
    "        except zmq.ZMQError:\n",
    "            pass\n",
    "\n",
    "        for topic, data in latest_msgs.items():\n",
    "            if topic == b\"/loggerd/status/\":\n",
    "                with messages.LoggerStatus.from_bytes(data) as msg:\n",
    "                    session_id.value = msg.sessionId\n",
    "                    record_status.value = str(msg.recording)\n",
    "                    record_button.button_style = 'danger' if msg.recording else ''\n",
    "\n",
    "        await asyncio.sleep(0.1)\n",
    "\n",
    "try:\n",
    "    ui_update_task.cancel()\n",
    "except:\n",
    "    pass\n",
    "ui_update_task = asyncio.create_task(f())\n",
    "\n",
    "def on_record_button_clicked(b):\n",
    "    pub_socket.send_multipart([b\"/loggerd/start/\", b\"\"])\n",
    "\n",
    "def on_stop_button_clicked(b):\n",
    "    pub_socket.send_multipart([b\"/loggerd/stop/\", b\"\"])\n",
    "\n",
    "record_button.on_click(on_record_button_clicked)\n",
    "stop_button.on_click(on_stop_button_clicked)\n",
    "\n",
    "display(widgets.HBox([record_button, stop_button, session_id, record_status]))"
   ]
  },
  {
   "cell_type": "code",
   "execution_count": null,
   "metadata": {},
   "outputs": [],
   "source": []
  }
 ],
 "metadata": {
  "kernelspec": {
   "display_name": "deepdrr_zmq",
   "language": "python",
   "name": "python3"
  },
  "language_info": {
   "codemirror_mode": {
    "name": "ipython",
    "version": 3
   },
   "file_extension": ".py",
   "mimetype": "text/x-python",
   "name": "python",
   "nbconvert_exporter": "python",
   "pygments_lexer": "ipython3",
   "version": "3.8.16"
  },
  "orig_nbformat": 4
 },
 "nbformat": 4,
 "nbformat_minor": 2
}
