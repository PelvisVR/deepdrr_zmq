{
 "cells": [
  {
   "cell_type": "code",
   "execution_count": 9,
   "metadata": {},
   "outputs": [
    {
     "name": "stdout",
     "output_type": "stream",
     "text": [
      "Requirement already satisfied: pycapnp in c:\\users\\hzhan\\miniconda3\\envs\\cvpr23\\lib\\site-packages (1.3.0)\n",
      "Requirement already satisfied: typer in c:\\users\\hzhan\\miniconda3\\envs\\cvpr23\\lib\\site-packages (0.9.0)\n",
      "Requirement already satisfied: click<9.0.0,>=7.1.1 in c:\\users\\hzhan\\miniconda3\\envs\\cvpr23\\lib\\site-packages (from typer) (8.0.4)\n",
      "Requirement already satisfied: typing-extensions>=3.7.4.3 in c:\\users\\hzhan\\miniconda3\\envs\\cvpr23\\lib\\site-packages (from typer) (4.5.0)\n",
      "Requirement already satisfied: colorama in c:\\users\\hzhan\\miniconda3\\envs\\cvpr23\\lib\\site-packages (from click<9.0.0,>=7.1.1->typer) (0.4.6)\n",
      "Requirement already satisfied: ipywidgets in c:\\users\\hzhan\\miniconda3\\envs\\cvpr23\\lib\\site-packages (8.0.4)\n",
      "Requirement already satisfied: jupyterlab-widgets~=3.0 in c:\\users\\hzhan\\miniconda3\\envs\\cvpr23\\lib\\site-packages (from ipywidgets) (3.0.5)\n",
      "Requirement already satisfied: traitlets>=4.3.1 in c:\\users\\hzhan\\miniconda3\\envs\\cvpr23\\lib\\site-packages (from ipywidgets) (5.9.0)\n",
      "Requirement already satisfied: ipython>=6.1.0 in c:\\users\\hzhan\\miniconda3\\envs\\cvpr23\\lib\\site-packages (from ipywidgets) (8.12.0)\n",
      "Requirement already satisfied: ipykernel>=4.5.1 in c:\\users\\hzhan\\miniconda3\\envs\\cvpr23\\lib\\site-packages (from ipywidgets) (6.22.0)\n",
      "Requirement already satisfied: widgetsnbextension~=4.0 in c:\\users\\hzhan\\miniconda3\\envs\\cvpr23\\lib\\site-packages (from ipywidgets) (4.0.5)\n",
      "Requirement already satisfied: jupyter-client>=6.1.12 in c:\\users\\hzhan\\miniconda3\\envs\\cvpr23\\lib\\site-packages (from ipykernel>=4.5.1->ipywidgets) (8.1.0)\n",
      "Requirement already satisfied: comm>=0.1.1 in c:\\users\\hzhan\\miniconda3\\envs\\cvpr23\\lib\\site-packages (from ipykernel>=4.5.1->ipywidgets) (0.1.3)\n",
      "Requirement already satisfied: jupyter-core!=5.0.*,>=4.12 in c:\\users\\hzhan\\miniconda3\\envs\\cvpr23\\lib\\site-packages (from ipykernel>=4.5.1->ipywidgets) (5.3.0)\n",
      "Requirement already satisfied: psutil in c:\\users\\hzhan\\miniconda3\\envs\\cvpr23\\lib\\site-packages (from ipykernel>=4.5.1->ipywidgets) (5.9.4)\n",
      "Requirement already satisfied: nest-asyncio in c:\\users\\hzhan\\miniconda3\\envs\\cvpr23\\lib\\site-packages (from ipykernel>=4.5.1->ipywidgets) (1.5.6)\n",
      "Requirement already satisfied: pyzmq>=20 in c:\\users\\hzhan\\miniconda3\\envs\\cvpr23\\lib\\site-packages (from ipykernel>=4.5.1->ipywidgets) (25.0.2)\n",
      "Requirement already satisfied: tornado>=6.1 in c:\\users\\hzhan\\miniconda3\\envs\\cvpr23\\lib\\site-packages (from ipykernel>=4.5.1->ipywidgets) (6.2)\n",
      "Requirement already satisfied: debugpy>=1.6.5 in c:\\users\\hzhan\\miniconda3\\envs\\cvpr23\\lib\\site-packages (from ipykernel>=4.5.1->ipywidgets) (1.6.7)\n",
      "Requirement already satisfied: packaging in c:\\users\\hzhan\\miniconda3\\envs\\cvpr23\\lib\\site-packages (from ipykernel>=4.5.1->ipywidgets) (23.0)\n",
      "Requirement already satisfied: matplotlib-inline>=0.1 in c:\\users\\hzhan\\miniconda3\\envs\\cvpr23\\lib\\site-packages (from ipykernel>=4.5.1->ipywidgets) (0.1.6)\n",
      "Requirement already satisfied: decorator in c:\\users\\hzhan\\miniconda3\\envs\\cvpr23\\lib\\site-packages (from ipython>=6.1.0->ipywidgets) (5.1.1)\n",
      "Requirement already satisfied: prompt-toolkit!=3.0.37,<3.1.0,>=3.0.30 in c:\\users\\hzhan\\miniconda3\\envs\\cvpr23\\lib\\site-packages (from ipython>=6.1.0->ipywidgets) (3.0.38)\n",
      "Requirement already satisfied: stack-data in c:\\users\\hzhan\\miniconda3\\envs\\cvpr23\\lib\\site-packages (from ipython>=6.1.0->ipywidgets) (0.6.2)\n",
      "Requirement already satisfied: typing-extensions in c:\\users\\hzhan\\miniconda3\\envs\\cvpr23\\lib\\site-packages (from ipython>=6.1.0->ipywidgets) (4.5.0)\n",
      "Requirement already satisfied: pickleshare in c:\\users\\hzhan\\miniconda3\\envs\\cvpr23\\lib\\site-packages (from ipython>=6.1.0->ipywidgets) (0.7.5)\n",
      "Requirement already satisfied: pygments>=2.4.0 in c:\\users\\hzhan\\miniconda3\\envs\\cvpr23\\lib\\site-packages (from ipython>=6.1.0->ipywidgets) (2.15.0)\n",
      "Requirement already satisfied: colorama in c:\\users\\hzhan\\miniconda3\\envs\\cvpr23\\lib\\site-packages (from ipython>=6.1.0->ipywidgets) (0.4.6)\n",
      "Requirement already satisfied: jedi>=0.16 in c:\\users\\hzhan\\miniconda3\\envs\\cvpr23\\lib\\site-packages (from ipython>=6.1.0->ipywidgets) (0.18.2)\n",
      "Requirement already satisfied: backcall in c:\\users\\hzhan\\miniconda3\\envs\\cvpr23\\lib\\site-packages (from ipython>=6.1.0->ipywidgets) (0.2.0)\n",
      "Requirement already satisfied: parso<0.9.0,>=0.8.0 in c:\\users\\hzhan\\miniconda3\\envs\\cvpr23\\lib\\site-packages (from jedi>=0.16->ipython>=6.1.0->ipywidgets) (0.8.3)\n",
      "Requirement already satisfied: importlib-metadata>=4.8.3 in c:\\users\\hzhan\\miniconda3\\envs\\cvpr23\\lib\\site-packages (from jupyter-client>=6.1.12->ipykernel>=4.5.1->ipywidgets) (6.6.0)\n",
      "Requirement already satisfied: python-dateutil>=2.8.2 in c:\\users\\hzhan\\miniconda3\\envs\\cvpr23\\lib\\site-packages (from jupyter-client>=6.1.12->ipykernel>=4.5.1->ipywidgets) (2.8.2)\n",
      "Requirement already satisfied: platformdirs>=2.5 in c:\\users\\hzhan\\miniconda3\\envs\\cvpr23\\lib\\site-packages (from jupyter-core!=5.0.*,>=4.12->ipykernel>=4.5.1->ipywidgets) (3.2.0)\n",
      "Requirement already satisfied: pywin32>=300 in c:\\users\\hzhan\\miniconda3\\envs\\cvpr23\\lib\\site-packages (from jupyter-core!=5.0.*,>=4.12->ipykernel>=4.5.1->ipywidgets) (306)\n",
      "Requirement already satisfied: wcwidth in c:\\users\\hzhan\\miniconda3\\envs\\cvpr23\\lib\\site-packages (from prompt-toolkit!=3.0.37,<3.1.0,>=3.0.30->ipython>=6.1.0->ipywidgets) (0.2.6)\n",
      "Requirement already satisfied: asttokens>=2.1.0 in c:\\users\\hzhan\\miniconda3\\envs\\cvpr23\\lib\\site-packages (from stack-data->ipython>=6.1.0->ipywidgets) (2.2.1)\n",
      "Requirement already satisfied: pure-eval in c:\\users\\hzhan\\miniconda3\\envs\\cvpr23\\lib\\site-packages (from stack-data->ipython>=6.1.0->ipywidgets) (0.2.2)\n",
      "Requirement already satisfied: executing>=1.2.0 in c:\\users\\hzhan\\miniconda3\\envs\\cvpr23\\lib\\site-packages (from stack-data->ipython>=6.1.0->ipywidgets) (1.2.0)\n",
      "Requirement already satisfied: six in c:\\users\\hzhan\\miniconda3\\envs\\cvpr23\\lib\\site-packages (from asttokens>=2.1.0->stack-data->ipython>=6.1.0->ipywidgets) (1.16.0)\n",
      "Requirement already satisfied: zipp>=0.5 in c:\\users\\hzhan\\miniconda3\\envs\\cvpr23\\lib\\site-packages (from importlib-metadata>=4.8.3->jupyter-client>=6.1.12->ipykernel>=4.5.1->ipywidgets) (3.15.0)\n"
     ]
    }
   ],
   "source": [
    "!pip install pycapnp\n",
    "!pip install typer\n",
    "!pip install ipywidgets\n",
    "import asyncio\n",
    "import os\n",
    "\n",
    "import logging\n",
    "from pathlib import Path\n",
    "\n",
    "import capnp\n",
    "import typer\n",
    "import zmq.asyncio\n",
    "import time\n",
    "from deepdrrzmq.utils.zmq_util import zmq_no_linger_context\n",
    "\n",
    "from deepdrrzmq.utils.typer_util import unwrap_typer_param\n",
    "from deepdrrzmq.utils.server_util import make_response, DeepDRRServerException, messages\n",
    "import random\n",
    "import string\n",
    "\n",
    "import threading\n",
    "from IPython.display import display\n",
    "import ipywidgets as widgets\n",
    "import time\n",
    "from threading import Event\n",
    "import asyncio"
   ]
  },
  {
   "cell_type": "code",
   "execution_count": 10,
   "metadata": {},
   "outputs": [],
   "source": [
    "rep_port=40100\n",
    "pub_port=40101\n",
    "sub_port=40102"
   ]
  },
  {
   "cell_type": "code",
   "execution_count": 11,
   "metadata": {},
   "outputs": [],
   "source": [
    "context = zmq.Context()\n",
    "context.__enter__()\n",
    "\n",
    "sub_socket = context.socket(zmq.SUB)\n",
    "sub_socket.hwm = 10000\n",
    "\n",
    "pub_socket = context.socket(zmq.PUB)\n",
    "pub_socket.hwm = 10000\n",
    "\n",
    "pub_socket.connect(f\"tcp://localhost:{pub_port}\")\n",
    "sub_socket.connect(f\"tcp://localhost:{sub_port}\")\n",
    "\n",
    "sub_socket.subscribe(b\"/loggerd/\")"
   ]
  },
  {
   "cell_type": "code",
   "execution_count": 12,
   "metadata": {},
   "outputs": [
    {
     "data": {
      "application/vnd.jupyter.widget-view+json": {
       "model_id": "4ea2e241e2614a41b18faae669ba6acf",
       "version_major": 2,
       "version_minor": 0
      },
      "text/plain": [
       "HBox(children=(Button(description='New Session', disabled=True, icon='circle', style=ButtonStyle()), Button(de…"
      ]
     },
     "metadata": {},
     "output_type": "display_data"
    }
   ],
   "source": [
    "record_button = widgets.Button(description='New Session', disabled=True, button_style='', icon='circle')\n",
    "stop_button = widgets.Button(description='Stop', disabled=True, button_style='', icon='square')\n",
    "\n",
    "session_id = widgets.Text(value='None', placeholder='', description='Session ID:', disabled=True)\n",
    "record_status = widgets.Text(value='None', placeholder='', description='Recording:', disabled=True)\n",
    "\n",
    "async def f():\n",
    "    last_heard_time = 0\n",
    "\n",
    "    while True:\n",
    "        latest_msgs = {}\n",
    "\n",
    "        try:\n",
    "            for i in range(1000):\n",
    "                topic, data = sub_socket.recv_multipart(flags=zmq.NOBLOCK)\n",
    "                latest_msgs[topic] = data\n",
    "        except zmq.ZMQError:\n",
    "            pass\n",
    "\n",
    "        for topic, data in latest_msgs.items():\n",
    "            if topic == b\"/loggerd/status/\":\n",
    "                last_heard_time = time.time()\n",
    "                record_button.disabled = False\n",
    "                stop_button.disabled = False\n",
    "                with messages.LoggerStatus.from_bytes(data) as msg:\n",
    "                    session_id.value = msg.sessionId if msg.recording else \"no session\"\n",
    "                    record_status.value = str(msg.recording)\n",
    "                    record_button.button_style = 'danger' if msg.recording else ''\n",
    "\n",
    "        if time.time() - last_heard_time > 3:\n",
    "            session_id.value = \"Disconnected\"\n",
    "            record_status.value = \"Disconnected\"\n",
    "            record_button.disabled = True\n",
    "            stop_button.disabled = True\n",
    "\n",
    "        await asyncio.sleep(0.1)\n",
    "\n",
    "try:\n",
    "    ui_update_task.cancel()\n",
    "except:\n",
    "    pass\n",
    "ui_update_task = asyncio.create_task(f())\n",
    "\n",
    "def on_record_button_clicked(b):\n",
    "    pub_socket.send_multipart([b\"/loggerd/start/\", b\"\"])\n",
    "\n",
    "def on_stop_button_clicked(b):\n",
    "    pub_socket.send_multipart([b\"/loggerd/stop/\", b\"\"])\n",
    "\n",
    "record_button.on_click(on_record_button_clicked)\n",
    "stop_button.on_click(on_stop_button_clicked)    \n",
    "\n",
    "display(widgets.HBox([record_button, stop_button, session_id, record_status]))"
   ]
  },
  {
   "cell_type": "code",
   "execution_count": 13,
   "metadata": {},
   "outputs": [
    {
     "data": {
      "application/vnd.jupyter.widget-view+json": {
       "model_id": "0946bdc9492a4320a4d98afb90d4889a",
       "version_major": 2,
       "version_minor": 0
      },
      "text/plain": [
       "HBox(children=(Button(description='New Session', disabled=True, icon='circle', style=ButtonStyle()), Button(de…"
      ]
     },
     "metadata": {},
     "output_type": "display_data"
    }
   ],
   "source": [
    "record_button = widgets.Button(description='New Session', disabled=True, button_style='', icon='circle')\n",
    "stop_button = widgets.Button(description='Stop', disabled=True, button_style='', icon='square')\n",
    "\n",
    "session_id = widgets.Text(value='None', placeholder='', description='Session ID:', disabled=True)\n",
    "record_status = widgets.Text(value='None', placeholder='', description='Recording:', disabled=True)\n",
    "async def f():\n",
    "    last_heard_time = 0\n",
    "\n",
    "    while True:\n",
    "        latest_msgs = {}\n",
    "\n",
    "        try:\n",
    "            for i in range(1000):\n",
    "                topic, data = sub_socket.recv_multipart(flags=zmq.NOBLOCK)\n",
    "                latest_msgs[topic] = data\n",
    "        except zmq.ZMQError:\n",
    "            pass\n",
    "\n",
    "        for topic, data in latest_msgs.items():\n",
    "            if topic == b\"/loggerd/status/\":\n",
    "                last_heard_time = time.time()\n",
    "                record_button.disabled = False\n",
    "                stop_button.disabled = False\n",
    "                with messages.LoggerStatus.from_bytes(data) as msg:\n",
    "                    session_id.value = msg.sessionId if msg.recording else \"no session\"\n",
    "                    record_status.value = str(msg.recording)\n",
    "                    record_button.button_style = 'danger' if msg.recording else ''\n",
    "\n",
    "        if time.time() - last_heard_time > 3:\n",
    "            session_id.value = \"Disconnected\"\n",
    "            record_status.value = \"Disconnected\"\n",
    "            record_button.disabled = True\n",
    "            stop_button.disabled = True\n",
    "\n",
    "        await asyncio.sleep(0.1)\n",
    "\n",
    "try:\n",
    "    ui_update_task.cancel()\n",
    "except:\n",
    "    pass\n",
    "ui_update_task = asyncio.create_task(f())\n",
    "\n",
    "def on_record_button_clicked(b):\n",
    "    pub_socket.send_multipart([b\"/loggerd/start/\", b\"\"])\n",
    "\n",
    "def on_stop_button_clicked(b):\n",
    "    pub_socket.send_multipart([b\"/loggerd/stop/\", b\"\"])\n",
    "\n",
    "record_button.on_click(on_record_button_clicked)\n",
    "stop_button.on_click(on_stop_button_clicked)    \n",
    "\n",
    "display(widgets.HBox([record_button, stop_button, session_id, record_status]))"
   ]
  }
 ],
 "metadata": {
  "kernelspec": {
   "display_name": "deepdrr_zmq",
   "language": "python",
   "name": "python3"
  },
  "language_info": {
   "codemirror_mode": {
    "name": "ipython",
    "version": 3
   },
   "file_extension": ".py",
   "mimetype": "text/x-python",
   "name": "python",
   "nbconvert_exporter": "python",
   "pygments_lexer": "ipython3",
   "version": "3.9.16"
  },
  "orig_nbformat": 4
 },
 "nbformat": 4,
 "nbformat_minor": 2
}
